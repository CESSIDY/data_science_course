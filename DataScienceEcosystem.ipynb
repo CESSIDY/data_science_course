{
 "cells": [
  {
   "cell_type": "markdown",
   "source": [
    "# Data Science Tools and Ecosystem\n"
   ],
   "metadata": {
    "collapsed": false
   }
  },
  {
   "cell_type": "markdown",
   "source": [
    "In this notebook, Data Science Tools and Ecosystem are summarized."
   ],
   "metadata": {
    "collapsed": false
   }
  },
  {
   "cell_type": "markdown",
   "source": [
    "**Objectives:**\n",
    "- List popular languages for Data Science.\n",
    "- Explain the importance of data preprocessing.\n",
    "- Demonstrate basic data visualization techniques.\n",
    "- Introduce machine learning concepts.\n",
    "- Discuss best practices for model evaluation."
   ],
   "metadata": {
    "collapsed": false
   }
  },
  {
   "cell_type": "markdown",
   "source": [
    "Some of the popular languages that Data Scientists use are:\n",
    "1. Python.\n",
    "2. R.\n",
    "3. SQL.\n",
    "4. Java.\n",
    "5. Julia.\n",
    "6. Scala.\n",
    "7. C/C++.\n",
    "8. JavaScript.\n"
   ],
   "metadata": {
    "collapsed": false
   }
  },
  {
   "cell_type": "markdown",
   "source": [
    "Some of the commonly used libraries used by Data Scientists include:\n",
    "1. Pandas.\n",
    "2. NumPy.\n",
    "3. SciPy.\n",
    "4. Matplotlib\n",
    "5. TensorFlow.\n",
    "6. Keras.\n"
   ],
   "metadata": {
    "collapsed": false
   }
  },
  {
   "cell_type": "markdown",
   "source": [
    "| Data Science Tools |\n",
    "|--------------------|\n",
    "| RStudio            |\n",
    "| Jupyter Notebooks  |\n",
    "| Apache Spark       |\n",
    "\n"
   ],
   "metadata": {
    "collapsed": false
   }
  },
  {
   "cell_type": "markdown",
   "source": [
    "### Below are a few examples of evaluating arithmetic expressions in Python\n"
   ],
   "metadata": {
    "collapsed": false
   }
  },
  {
   "cell_type": "code",
   "execution_count": 1,
   "outputs": [
    {
     "data": {
      "text/plain": "17"
     },
     "execution_count": 1,
     "metadata": {},
     "output_type": "execute_result"
    }
   ],
   "source": [
    "#This a simple arithmetic expression to mutiply then add integers\n",
    "(3*4)+5"
   ],
   "metadata": {
    "collapsed": false
   }
  },
  {
   "cell_type": "code",
   "execution_count": 2,
   "outputs": [
    {
     "data": {
      "text/plain": "3.3333333333333335"
     },
     "execution_count": 2,
     "metadata": {},
     "output_type": "execute_result"
    }
   ],
   "source": [
    "#This will convert 200 minutes to hours by diving by 60\n",
    "200 / 60\n"
   ],
   "metadata": {
    "collapsed": false
   }
  },
  {
   "cell_type": "markdown",
   "source": [
    "## Author\n",
    "Vadym Rupa\n"
   ],
   "metadata": {
    "collapsed": false
   }
  },
  {
   "cell_type": "code",
   "execution_count": null,
   "outputs": [],
   "source": [],
   "metadata": {
    "collapsed": false
   }
  }
 ],
 "metadata": {
  "kernelspec": {
   "display_name": "Python 3",
   "language": "python",
   "name": "python3"
  },
  "language_info": {
   "codemirror_mode": {
    "name": "ipython",
    "version": 2
   },
   "file_extension": ".py",
   "mimetype": "text/x-python",
   "name": "python",
   "nbconvert_exporter": "python",
   "pygments_lexer": "ipython2",
   "version": "2.7.6"
  }
 },
 "nbformat": 4,
 "nbformat_minor": 0
}
